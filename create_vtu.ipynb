{
 "cells": [
  {
   "cell_type": "code",
   "execution_count": null,
   "metadata": {
    "collapsed": false
   },
   "outputs": [],
   "source": [
    "import numpy as np\n",
    "%pylab inline \n",
    "from pyevtk.hl import pointsToVTK\n",
    "from pyevtk.hl import gridToVTK\n"
   ]
  },
  {
   "cell_type": "code",
   "execution_count": null,
   "metadata": {
    "collapsed": false
   },
   "outputs": [],
   "source": [
    "def create_vtu_file(input_path_to_grid, input_path_to_data):\n",
    "    my_grid_3d = np.loadtxt(input_path_to_grid + \".txt\")\n",
    "    my_data_3d = np.loadtxt(input_path_to_data + \".txt\")\n",
    "    my_x_grid = np.array(my_grid_3d[:,0])\n",
    "    my_y_grid = np.array(my_grid_3d[:,1])\n",
    "    my_z_grid = np.array(my_grid_3d[:,2])\n",
    "    my_vel_x = np.array(my_data_3d[:,0])\n",
    "    my_vel_y = np.array(my_data_3d[:,1])\n",
    "    my_vel_z = np.array(my_data_3d[:,2])\n",
    "    pointsToVTK(input_path_to_data, my_x_grid, my_y_grid, my_z_grid, data = {\"v\" : (my_vel_x, my_vel_y, my_vel_z)})\n",
    "\n",
    "\n",
    "\n",
    "\n",
    "    "
   ]
  },
  {
   "cell_type": "code",
   "execution_count": null,
   "metadata": {
    "collapsed": true
   },
   "outputs": [],
   "source": [
    "ext_vel = np.loadtxt('/Users/nicolagiuliani/PostProcessBEMStokes/build_euglena_spline_optimal_vel_big_on_arky_Flagello_20180626_15_zero_075_thickness_full_far_field_5_10/exterior_mean_from_0_to_900.txt')\\\n",
    "[-1331:,1:4]\n",
    "\n",
    "np.savetxt('/Users/nicolagiuliani/PostProcessBEMStokes/build_euglena_spline_optimal_vel_big_on_arky_Flagello_20180626_15_zero_075_thickness_full_far_field_5_10/mean_velocity.txt',ext_vel)"
   ]
  },
  {
   "cell_type": "code",
   "execution_count": null,
   "metadata": {
    "collapsed": false
   },
   "outputs": [],
   "source": [
    "# create_vtu_file(\"far_field_grids/spherical_cap_5_10_body_lenghts\",\"build_euglena_spline_optimal_vel_big_on_arky_Flagello_20180626_15_zero_075_thickness_full_far_field_5_10/exterior_velocity_at_frame_100\")\n",
    "create_vtu_file(\"far_field_grids/spherical_cap_5_10_body_lenghts\",\"build_euglena_spline_optimal_vel_big_on_arky_Flagello_20180626_15_zero_075_thickness_full_far_field_5_10/mean_velocity\")"
   ]
  },
  {
   "cell_type": "code",
   "execution_count": null,
   "metadata": {
    "collapsed": true
   },
   "outputs": [],
   "source": [
    "create_vtu_file(\"far_field_grids/spherical_cap_5_10_body_lenghts\",\"/Users/nicolagiuliani/EuglenaGracilis/ResultAnalysis/far_field_try_phase_100_5_10\")\n",
    "# create_vtu_file(\"far_field_grids/spherical_cap_5_10_body_lenghts\",\"/Users/nicolagiuliani/EuglenaGracilis/ResultAnalysis/far_field_try_phase_mean_0_900\")"
   ]
  },
  {
   "cell_type": "code",
   "execution_count": null,
   "metadata": {
    "collapsed": true
   },
   "outputs": [],
   "source": [
    "path_to_saved_results=\"build_euglena_arky_on_arky_Flagello_20180626_12_zero_075_thickness_full_\"\n",
    "path_to_grid=\"PTV_grids/PP_grid_\""
   ]
  },
  {
   "cell_type": "code",
   "execution_count": null,
   "metadata": {
    "collapsed": false
   },
   "outputs": [],
   "source": [
    "print range(0,100,10)"
   ]
  },
  {
   "cell_type": "code",
   "execution_count": null,
   "metadata": {
    "collapsed": false
   },
   "outputs": [],
   "source": [
    "for i in range(1,11):\n",
    "    grid_3d=np.loadtxt(path_to_grid+str(i)+\".txt\")\n",
    "    x_grid=np.array(grid_3d[:,0])\n",
    "    y_grid=np.array(grid_3d[:,1])\n",
    "    z_grid=np.array(grid_3d[:,2])\n",
    "    for j in range(0,1000,100):\n",
    "        velocity=np.loadtxt(path_to_saved_results+str(i)+\"/exterior_velocity_at_frame_\"+str(j)+\".txt\")\n",
    "        vel_x = np.array(velocity[:,0])\n",
    "        vel_y = np.array(velocity[:,1])\n",
    "        vel_z = np.array(velocity[:,2])\n",
    "        #print vel.shape\n",
    "        pointsToVTK(path_to_saved_results+str(i)+\"/exterior_velocity_at_frame_\"+str(j), x_grid, y_grid, z_grid, data = {\"v\" : (vel_x, vel_y, vel_z)})#'u_x' : vel_x, 'u_y' : vel_y, 'u_z' : vel_z})#, 'u' : vel})\n",
    "        # gridToVTK(\"./out_velocity_g\", xxx, np.array(0), yyy)#, pointData = {'mean': mean_vel_grid, 'u_x' : vel_x, 'u_y' : vel_y, 'u_z' : vel_z})\n",
    "\n"
   ]
  },
  {
   "cell_type": "code",
   "execution_count": null,
   "metadata": {
    "collapsed": false
   },
   "outputs": [],
   "source": [
    "for i in range(1,11):\n",
    "    grid_3d=np.loadtxt(path_to_grid+str(i)+\".txt\")\n",
    "    x_grid=np.array(grid_3d[:,0])\n",
    "    y_grid=np.array(grid_3d[:,1])\n",
    "    z_grid=np.array(grid_3d[:,2])\n",
    "    print(grid_3d.shape)\n",
    "#     for j in range(0,1000,10):\n",
    "    velocity=np.loadtxt(path_to_saved_results+str(i)+\"/exterior_velocity_at_frame_\"+str(j)+\".txt\")\n",
    "    vel_x = x_grid#np.array(velocity[:,0])\n",
    "    vel_y = y_grid#np.array(velocity[:,1])\n",
    "    vel_z = z_grid#np.array(velocity[:,2])\n",
    "    #print vel.shape\n",
    "    pointsToVTK(path_to_grid+str(i)+\"_vtu\", x_grid, y_grid, z_grid, data = {\"v\" : (vel_x, vel_y, vel_z)})#'u_x' : vel_x, 'u_y' : vel_y, 'u_z' : vel_z})#, 'u' : vel})\n",
    "        # gridToVTK(\"./out_velocity_g\", xxx, np.array(0), yyy)#, pointData = {'mean': mean_vel_grid, 'u_x' : vel_x, 'u_y' : vel_y, 'u_z' : vel_z})\n",
    "\n",
    "# "
   ]
  },
  {
   "cell_type": "code",
   "execution_count": null,
   "metadata": {
    "collapsed": true
   },
   "outputs": [],
   "source": []
  }
 ],
 "metadata": {
  "anaconda-cloud": {},
  "kernelspec": {
   "display_name": "Python [Root]",
   "language": "python",
   "name": "Python [Root]"
  },
  "language_info": {
   "codemirror_mode": {
    "name": "ipython",
    "version": 2
   },
   "file_extension": ".py",
   "mimetype": "text/x-python",
   "name": "python",
   "nbconvert_exporter": "python",
   "pygments_lexer": "ipython2",
   "version": "2.7.12"
  }
 },
 "nbformat": 4,
 "nbformat_minor": 0
}
